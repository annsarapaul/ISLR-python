{
  "nbformat": 4,
  "nbformat_minor": 0,
  "metadata": {
    "kernelspec": {
      "display_name": "Python 3",
      "language": "python",
      "name": "python3"
    },
    "language_info": {
      "codemirror_mode": {
        "name": "ipython",
        "version": 3
      },
      "file_extension": ".py",
      "mimetype": "text/x-python",
      "name": "python",
      "nbconvert_exporter": "python",
      "pygments_lexer": "ipython3",
      "version": "3.6.4"
    },
    "colab": {
      "name": "Chapter 3.ipynb",
      "provenance": [],
      "toc_visible": true,
      "include_colab_link": true
    }
  },
  "cells": [
    {
      "cell_type": "markdown",
      "metadata": {
        "id": "view-in-github",
        "colab_type": "text"
      },
      "source": [
        "<a href=\"https://colab.research.google.com/github/annsarapaul/ISLR-python/blob/master/Notebooks/Ann/Chapter%203.ipynb\" target=\"_parent\"><img src=\"https://colab.research.google.com/assets/colab-badge.svg\" alt=\"Open In Colab\"/></a>"
      ]
    },
    {
      "cell_type": "markdown",
      "metadata": {
        "id": "7BraIa88viS6"
      },
      "source": [
        "# Chapter 3 - Linear Regression"
      ]
    },
    {
      "cell_type": "markdown",
      "metadata": {
        "id": "wNS9lDaoviS9"
      },
      "source": [
        "- [Load Datasets](#Load-Datasets)\n",
        "- [3.1 Simple Linear Regression](#3.1-Simple-Linear-Regression)\n",
        "- [3.2 Multiple Linear Regression](#3.2-Multiple-Linear-Regression)\n",
        "- [3.3 Other Considerations in the Regression Model](#3.3-Other-Considerations-in-the-Regression-Model)"
      ]
    },
    {
      "cell_type": "code",
      "metadata": {
        "id": "XzhbUbSRviTA",
        "outputId": "d06d452e-8abf-4d8d-aa7e-168ed4a0083d",
        "colab": {
          "base_uri": "https://localhost:8080/",
          "height": 51
        }
      },
      "source": [
        "# %load ../standard_import.txt\n",
        "import pandas as pd\n",
        "import numpy as np\n",
        "import matplotlib.pyplot as plt\n",
        "from mpl_toolkits.mplot3d import axes3d\n",
        "import seaborn as sns\n",
        "import scipy\n",
        "import math\n",
        "from sklearn.preprocessing import scale\n",
        "import sklearn.linear_model as skl_lm\n",
        "from sklearn.metrics import mean_squared_error, r2_score\n",
        "import statsmodels.api as sm\n",
        "import statsmodels.formula.api as smf\n",
        "\n",
        "%matplotlib inline\n",
        "plt.style.use('seaborn-white')"
      ],
      "execution_count": 1,
      "outputs": [
        {
          "output_type": "stream",
          "text": [
            "/usr/local/lib/python3.6/dist-packages/statsmodels/tools/_testing.py:19: FutureWarning: pandas.util.testing is deprecated. Use the functions in the public API at pandas.testing instead.\n",
            "  import pandas.util.testing as tm\n"
          ],
          "name": "stderr"
        }
      ]
    },
    {
      "cell_type": "markdown",
      "metadata": {
        "id": "HRUe0y6fviTN"
      },
      "source": [
        "### Load Datasets\n",
        "Datasets available on http://www-bcf.usc.edu/~gareth/ISL/data.html"
      ]
    },
    {
      "cell_type": "markdown",
      "metadata": {
        "id": "T6KkeWzF8hvT"
      },
      "source": [
        "#### Downloading Files so Colab can use"
      ]
    },
    {
      "cell_type": "code",
      "metadata": {
        "id": "cZRcGliHjFnl"
      },
      "source": [
        "data_folder = '/content/Data' "
      ],
      "execution_count": 2,
      "outputs": []
    },
    {
      "cell_type": "code",
      "metadata": {
        "id": "vnCP6OP3vl9y"
      },
      "source": [
        "!wget -q https://raw.githubusercontent.com/annsarapaul/ISLR-python/master/Notebooks/Data/Advertising.csv  -P $data_folder\n",
        "!wget -q https://raw.githubusercontent.com/annsarapaul/ISLR-python/master/Notebooks/Data/Credit.csv -P $data_folder\n",
        "!wget -q https://raw.githubusercontent.com/annsarapaul/ISLR-python/master/Notebooks/Data/Auto.csv -P $data_folder\n",
        "#Data/Advertising.csv'"
      ],
      "execution_count": 3,
      "outputs": []
    },
    {
      "cell_type": "code",
      "metadata": {
        "id": "ktyOcCM2viTP",
        "outputId": "3edb740e-8a10-41ee-aa3b-02147bc3b55c",
        "colab": {
          "base_uri": "https://localhost:8080/",
          "height": 204
        }
      },
      "source": [
        "advertising = pd.read_csv(data_folder + '/Advertising.csv', usecols=[1,2,3,4])\n",
        "advertising.head(5)"
      ],
      "execution_count": 4,
      "outputs": [
        {
          "output_type": "execute_result",
          "data": {
            "text/html": [
              "<div>\n",
              "<style scoped>\n",
              "    .dataframe tbody tr th:only-of-type {\n",
              "        vertical-align: middle;\n",
              "    }\n",
              "\n",
              "    .dataframe tbody tr th {\n",
              "        vertical-align: top;\n",
              "    }\n",
              "\n",
              "    .dataframe thead th {\n",
              "        text-align: right;\n",
              "    }\n",
              "</style>\n",
              "<table border=\"1\" class=\"dataframe\">\n",
              "  <thead>\n",
              "    <tr style=\"text-align: right;\">\n",
              "      <th></th>\n",
              "      <th>TV</th>\n",
              "      <th>Radio</th>\n",
              "      <th>Newspaper</th>\n",
              "      <th>Sales</th>\n",
              "    </tr>\n",
              "  </thead>\n",
              "  <tbody>\n",
              "    <tr>\n",
              "      <th>0</th>\n",
              "      <td>230.1</td>\n",
              "      <td>37.8</td>\n",
              "      <td>69.2</td>\n",
              "      <td>22.1</td>\n",
              "    </tr>\n",
              "    <tr>\n",
              "      <th>1</th>\n",
              "      <td>44.5</td>\n",
              "      <td>39.3</td>\n",
              "      <td>45.1</td>\n",
              "      <td>10.4</td>\n",
              "    </tr>\n",
              "    <tr>\n",
              "      <th>2</th>\n",
              "      <td>17.2</td>\n",
              "      <td>45.9</td>\n",
              "      <td>69.3</td>\n",
              "      <td>9.3</td>\n",
              "    </tr>\n",
              "    <tr>\n",
              "      <th>3</th>\n",
              "      <td>151.5</td>\n",
              "      <td>41.3</td>\n",
              "      <td>58.5</td>\n",
              "      <td>18.5</td>\n",
              "    </tr>\n",
              "    <tr>\n",
              "      <th>4</th>\n",
              "      <td>180.8</td>\n",
              "      <td>10.8</td>\n",
              "      <td>58.4</td>\n",
              "      <td>12.9</td>\n",
              "    </tr>\n",
              "  </tbody>\n",
              "</table>\n",
              "</div>"
            ],
            "text/plain": [
              "      TV  Radio  Newspaper  Sales\n",
              "0  230.1   37.8       69.2   22.1\n",
              "1   44.5   39.3       45.1   10.4\n",
              "2   17.2   45.9       69.3    9.3\n",
              "3  151.5   41.3       58.5   18.5\n",
              "4  180.8   10.8       58.4   12.9"
            ]
          },
          "metadata": {
            "tags": []
          },
          "execution_count": 4
        }
      ]
    },
    {
      "cell_type": "code",
      "metadata": {
        "id": "wU8e1CDBviTb",
        "outputId": "f73571cd-2773-4944-81ec-dbc6bb21787e",
        "colab": {
          "base_uri": "https://localhost:8080/",
          "height": 142
        }
      },
      "source": [
        "credit = pd.read_csv('Data/Credit.csv', usecols=list(range(1,12)))\n",
        "credit.head(3)"
      ],
      "execution_count": 5,
      "outputs": [
        {
          "output_type": "execute_result",
          "data": {
            "text/html": [
              "<div>\n",
              "<style scoped>\n",
              "    .dataframe tbody tr th:only-of-type {\n",
              "        vertical-align: middle;\n",
              "    }\n",
              "\n",
              "    .dataframe tbody tr th {\n",
              "        vertical-align: top;\n",
              "    }\n",
              "\n",
              "    .dataframe thead th {\n",
              "        text-align: right;\n",
              "    }\n",
              "</style>\n",
              "<table border=\"1\" class=\"dataframe\">\n",
              "  <thead>\n",
              "    <tr style=\"text-align: right;\">\n",
              "      <th></th>\n",
              "      <th>Income</th>\n",
              "      <th>Limit</th>\n",
              "      <th>Rating</th>\n",
              "      <th>Cards</th>\n",
              "      <th>Age</th>\n",
              "      <th>Education</th>\n",
              "      <th>Gender</th>\n",
              "      <th>Student</th>\n",
              "      <th>Married</th>\n",
              "      <th>Ethnicity</th>\n",
              "      <th>Balance</th>\n",
              "    </tr>\n",
              "  </thead>\n",
              "  <tbody>\n",
              "    <tr>\n",
              "      <th>0</th>\n",
              "      <td>14.891</td>\n",
              "      <td>3606</td>\n",
              "      <td>283</td>\n",
              "      <td>2</td>\n",
              "      <td>34</td>\n",
              "      <td>11</td>\n",
              "      <td>Male</td>\n",
              "      <td>No</td>\n",
              "      <td>Yes</td>\n",
              "      <td>Caucasian</td>\n",
              "      <td>333</td>\n",
              "    </tr>\n",
              "    <tr>\n",
              "      <th>1</th>\n",
              "      <td>106.025</td>\n",
              "      <td>6645</td>\n",
              "      <td>483</td>\n",
              "      <td>3</td>\n",
              "      <td>82</td>\n",
              "      <td>15</td>\n",
              "      <td>Female</td>\n",
              "      <td>Yes</td>\n",
              "      <td>Yes</td>\n",
              "      <td>Asian</td>\n",
              "      <td>903</td>\n",
              "    </tr>\n",
              "    <tr>\n",
              "      <th>2</th>\n",
              "      <td>104.593</td>\n",
              "      <td>7075</td>\n",
              "      <td>514</td>\n",
              "      <td>4</td>\n",
              "      <td>71</td>\n",
              "      <td>11</td>\n",
              "      <td>Male</td>\n",
              "      <td>No</td>\n",
              "      <td>No</td>\n",
              "      <td>Asian</td>\n",
              "      <td>580</td>\n",
              "    </tr>\n",
              "  </tbody>\n",
              "</table>\n",
              "</div>"
            ],
            "text/plain": [
              "    Income  Limit  Rating  Cards  ...  Student  Married  Ethnicity Balance\n",
              "0   14.891   3606     283      2  ...       No      Yes  Caucasian     333\n",
              "1  106.025   6645     483      3  ...      Yes      Yes      Asian     903\n",
              "2  104.593   7075     514      4  ...       No       No      Asian     580\n",
              "\n",
              "[3 rows x 11 columns]"
            ]
          },
          "metadata": {
            "tags": []
          },
          "execution_count": 5
        }
      ]
    },
    {
      "cell_type": "code",
      "metadata": {
        "id": "EF1IQZ0UviTk",
        "outputId": "11d275b0-78ae-485c-e687-d6cb02c2b85f",
        "colab": {
          "base_uri": "https://localhost:8080/",
          "height": 204
        }
      },
      "source": [
        "auto = pd.read_csv('Data/Auto.csv', na_values='?').dropna()\n",
        "auto.head(5)"
      ],
      "execution_count": 6,
      "outputs": [
        {
          "output_type": "execute_result",
          "data": {
            "text/html": [
              "<div>\n",
              "<style scoped>\n",
              "    .dataframe tbody tr th:only-of-type {\n",
              "        vertical-align: middle;\n",
              "    }\n",
              "\n",
              "    .dataframe tbody tr th {\n",
              "        vertical-align: top;\n",
              "    }\n",
              "\n",
              "    .dataframe thead th {\n",
              "        text-align: right;\n",
              "    }\n",
              "</style>\n",
              "<table border=\"1\" class=\"dataframe\">\n",
              "  <thead>\n",
              "    <tr style=\"text-align: right;\">\n",
              "      <th></th>\n",
              "      <th>mpg</th>\n",
              "      <th>cylinders</th>\n",
              "      <th>displacement</th>\n",
              "      <th>horsepower</th>\n",
              "      <th>weight</th>\n",
              "      <th>acceleration</th>\n",
              "      <th>year</th>\n",
              "      <th>origin</th>\n",
              "      <th>name</th>\n",
              "    </tr>\n",
              "  </thead>\n",
              "  <tbody>\n",
              "    <tr>\n",
              "      <th>0</th>\n",
              "      <td>18.0</td>\n",
              "      <td>8</td>\n",
              "      <td>307.0</td>\n",
              "      <td>130.0</td>\n",
              "      <td>3504</td>\n",
              "      <td>12.0</td>\n",
              "      <td>70</td>\n",
              "      <td>1</td>\n",
              "      <td>chevrolet chevelle malibu</td>\n",
              "    </tr>\n",
              "    <tr>\n",
              "      <th>1</th>\n",
              "      <td>15.0</td>\n",
              "      <td>8</td>\n",
              "      <td>350.0</td>\n",
              "      <td>165.0</td>\n",
              "      <td>3693</td>\n",
              "      <td>11.5</td>\n",
              "      <td>70</td>\n",
              "      <td>1</td>\n",
              "      <td>buick skylark 320</td>\n",
              "    </tr>\n",
              "    <tr>\n",
              "      <th>2</th>\n",
              "      <td>18.0</td>\n",
              "      <td>8</td>\n",
              "      <td>318.0</td>\n",
              "      <td>150.0</td>\n",
              "      <td>3436</td>\n",
              "      <td>11.0</td>\n",
              "      <td>70</td>\n",
              "      <td>1</td>\n",
              "      <td>plymouth satellite</td>\n",
              "    </tr>\n",
              "    <tr>\n",
              "      <th>3</th>\n",
              "      <td>16.0</td>\n",
              "      <td>8</td>\n",
              "      <td>304.0</td>\n",
              "      <td>150.0</td>\n",
              "      <td>3433</td>\n",
              "      <td>12.0</td>\n",
              "      <td>70</td>\n",
              "      <td>1</td>\n",
              "      <td>amc rebel sst</td>\n",
              "    </tr>\n",
              "    <tr>\n",
              "      <th>4</th>\n",
              "      <td>17.0</td>\n",
              "      <td>8</td>\n",
              "      <td>302.0</td>\n",
              "      <td>140.0</td>\n",
              "      <td>3449</td>\n",
              "      <td>10.5</td>\n",
              "      <td>70</td>\n",
              "      <td>1</td>\n",
              "      <td>ford torino</td>\n",
              "    </tr>\n",
              "  </tbody>\n",
              "</table>\n",
              "</div>"
            ],
            "text/plain": [
              "    mpg  cylinders  displacement  ...  year  origin                       name\n",
              "0  18.0          8         307.0  ...    70       1  chevrolet chevelle malibu\n",
              "1  15.0          8         350.0  ...    70       1          buick skylark 320\n",
              "2  18.0          8         318.0  ...    70       1         plymouth satellite\n",
              "3  16.0          8         304.0  ...    70       1              amc rebel sst\n",
              "4  17.0          8         302.0  ...    70       1                ford torino\n",
              "\n",
              "[5 rows x 9 columns]"
            ]
          },
          "metadata": {
            "tags": []
          },
          "execution_count": 6
        }
      ]
    },
    {
      "cell_type": "markdown",
      "metadata": {
        "id": "hnYh74hIviTv"
      },
      "source": [
        "## 3.1 Simple Linear Regression"
      ]
    },
    {
      "cell_type": "markdown",
      "metadata": {
        "id": "v7Gqp_v_y8BE"
      },
      "source": [
        "Linear Equation\n",
        "\n",
        "$\\hat{y}= \\beta _{0} + \\beta _{1}X$\n",
        "\n",
        "**Least Square Approximation** is used to calculate $\\beta _{0}$ and $\\beta _{1}$ with minimum RSS\n",
        "\n",
        "$\\hat{\\beta_{1}} = \\frac{\\sum (x_{i}-\\bar{x})*(y_{i}-\\bar{y})}{\\sum (x_{i}-\\bar{x})^2}$\n",
        "\n",
        "$\\hat{\\beta_{0}} = \\bar{y} - \\hat{\\beta_{1}} *\\bar{x}$\n",
        "\n"
      ]
    },
    {
      "cell_type": "markdown",
      "metadata": {
        "id": "G49wK5aH13qj"
      },
      "source": [
        "#### Model Accuracy\n"
      ]
    },
    {
      "cell_type": "markdown",
      "metadata": {
        "id": "jZnXv2Lq2qtI"
      },
      "source": [
        "##### Residual sum of squares (RSS)\n",
        "\n",
        "RSS = $\\sum_{}^{n}(y_{i} - \\hat{y_{i}})^2$"
      ]
    },
    {
      "cell_type": "markdown",
      "metadata": {
        "id": "WpGKcUSQkLE7"
      },
      "source": [
        "##### Residual Square Error (RSE)\n",
        "\n",
        "RSE = $\\sqrt(\\frac{RSS}{n-p-1})$"
      ]
    },
    {
      "cell_type": "markdown",
      "metadata": {
        "id": "6pPWZDYslIxN"
      },
      "source": [
        "##### R2 Error\n",
        "\n",
        "More useful since RSE and RSS are absolute values and this ranges in values 0-1. R2 is good when closer to one\n",
        "\n",
        "R2 = 1 - RSS/TSS\n",
        "\n",
        "TSS = Total Sum of Squares\n",
        "\n",
        "TSS = $\\sum_{}^{n}(y_{i} - \\bar{y})^2$\n",
        "\n",
        "For just one predictor R2 = corr(x,Y)"
      ]
    },
    {
      "cell_type": "code",
      "metadata": {
        "id": "vhh9nxcTp-P8",
        "outputId": "8514f725-e7d3-4ee0-9085-dd17aa2c8811",
        "colab": {
          "base_uri": "https://localhost:8080/",
          "height": 34
        }
      },
      "source": [
        "y_pred = b[0] + m[0]*advertising['TV']\n",
        "rss = ((y_pred - advertising['Sales'])**2).sum()\n",
        "\n",
        "#rse = math.sqrt(sigma_2)\n",
        "n = len(y_pred)\n",
        "\n",
        "y_avg = advertising['Sales'].sum()/(len(y_pred))\n",
        "tss = ((y_pred - y_avg)**2).sum()\n",
        "r2 = 1 - rss/tss\n",
        "print(r2)\n"
      ],
      "execution_count": 12,
      "outputs": [
        {
          "output_type": "stream",
          "text": [
            "0.36567940037641433\n"
          ],
          "name": "stdout"
        }
      ]
    },
    {
      "cell_type": "markdown",
      "metadata": {
        "id": "ZZ79uNLhTyb9"
      },
      "source": [
        "##### Standard Error in Beta\n",
        "\n",
        "Standard Errors . $\\sigma$ = $\\sqrt(\\frac{RSS}{n-2})$\n",
        "\n",
        "$SE(\\beta_{0} )^{2}= \\sigma ^{2}[\\frac{1}{n} + \\frac{\\bar{x}^2}{\\sum ^{n}(x_{i}- \\bar{x})^2}]$\n",
        "\n",
        "\n",
        "$SE(\\beta_{1} )^{2}= \\frac{\\sigma ^{2}}{\\sum ^{n}(x_{i}- \\bar{x})^2}$\n",
        "\n",
        "Confidence interval - 95%\n",
        "\n",
        "$\\beta_{1} \\pm 2\\cdot SE(\\beta_{1})$"
      ]
    },
    {
      "cell_type": "code",
      "metadata": {
        "id": "1ik2RhM-cufV",
        "outputId": "1adad2d9-9e1b-4fb2-e386-af74f7a8e9b5",
        "colab": {
          "base_uri": "https://localhost:8080/",
          "height": 85
        }
      },
      "source": [
        "y_pred = b[0] + m[0]*advertising['TV']\n",
        "rss = ((y_pred - advertising['Sales'])**2).sum()\n",
        "sigma_2 = rss/(len(y_pred)-2)\n",
        "rse = math.sqrt(sigma_2)\n",
        "n = len(y_pred)\n",
        "x_avg = advertising['TV'].sum()/(len(y_pred))\n",
        "x_val = ((advertising['TV']- x_avg)**2).sum()\n",
        "SE_B0 = math.sqrt(sigma_2*(1.0/(len(y_pred))+ x_avg**2/x_val))\n",
        "SE_B1 = math.sqrt(sigma_2/x_val)\n",
        "print('SE for B1 = '+ str(SE_B1))\n",
        "print('SE for B0 = '+ str(SE_B0))\n",
        "print('B0 = '+ str(b[0]))\n",
        "print('B1 = '+ str(m[0]))"
      ],
      "execution_count": 13,
      "outputs": [
        {
          "output_type": "stream",
          "text": [
            "SE for B1 = 0.0026906071877968707\n",
            "SE for B0 = 0.4578429402734785\n",
            "B0 = 7.0325935491276965\n",
            "B1 = 0.04753664043301974\n"
          ],
          "name": "stdout"
        }
      ]
    },
    {
      "cell_type": "markdown",
      "metadata": {
        "id": "Comr7TIWZF9T"
      },
      "source": [
        "##### T statistic - Is X and Y related?**bold text**\n",
        "\n",
        "$t = \\frac{\\beta_{1}-0}{SE(\\beta_{1})}$\n",
        "\n",
        "p-value = Probability that $\\beta_{1} = 0$\n",
        "\n",
        "Low value for p-value indicates lower probablity and hence $\\beta_{1} != 0$ and X is related to Y\n"
      ]
    },
    {
      "cell_type": "code",
      "metadata": {
        "id": "U8q8sa5sFcls",
        "outputId": "467a45cf-ef6a-4cde-9fae-bd08e2d3a8c7",
        "colab": {
          "base_uri": "https://localhost:8080/",
          "height": 51
        }
      },
      "source": [
        "t0 = b[0]/SE_B0\n",
        "t1 = m[0]/SE_B1\n",
        "print('t0 = '+ str(t0))\n",
        "print('t1 = '+ str(t1))"
      ],
      "execution_count": 15,
      "outputs": [
        {
          "output_type": "stream",
          "text": [
            "t0 = 15.360275174117552\n",
            "t1 = 17.667625600875542\n"
          ],
          "name": "stdout"
        }
      ]
    },
    {
      "cell_type": "markdown",
      "metadata": {
        "id": "A78vaWC8jqf_"
      },
      "source": [
        "##### P - Value\n",
        "\n",
        " ( needs t-statistic and degress of freedom)"
      ]
    },
    {
      "cell_type": "code",
      "metadata": {
        "id": "5YQ1B4DahzDn",
        "outputId": "127e2276-3644-4cd6-c400-2ac94c7e4c1d",
        "colab": {
          "base_uri": "https://localhost:8080/",
          "height": 51
        }
      },
      "source": [
        "\n",
        "pval0 = scipy.stats.t.sf(np.abs(t0), n-2)*2  # two-sided pvalue = Prob(abs(t)>tt)\n",
        "pval1 = scipy.stats.t.sf(np.abs(t1), n-2)*2 \n",
        "print('pval0 = '+ str(pval0))\n",
        "print('pval1 = '+ str(pval1))"
      ],
      "execution_count": 16,
      "outputs": [
        {
          "output_type": "stream",
          "text": [
            "pval0 = 1.4063004765084694e-35\n",
            "pval1 = 1.4673897001946964e-42\n"
          ],
          "name": "stdout"
        }
      ]
    },
    {
      "cell_type": "markdown",
      "metadata": {
        "id": "gQhlANd3qTXU"
      },
      "source": [
        "##### Pearson's Correlation term "
      ]
    },
    {
      "cell_type": "code",
      "metadata": {
        "id": "VumzH2qsmyAz",
        "outputId": "64391d70-7082-4c86-91c2-d91e858ca06e",
        "colab": {
          "base_uri": "https://localhost:8080/",
          "height": 34
        }
      },
      "source": [
        "corr, _ = scipy.stats.pearsonr(advertising['TV'], advertising['Sales'])\n",
        "print('Pearsons correlation: %.3f' % corr)"
      ],
      "execution_count": 17,
      "outputs": [
        {
          "output_type": "stream",
          "text": [
            "Pearsons correlation: 0.782\n"
          ],
          "name": "stdout"
        }
      ]
    },
    {
      "cell_type": "markdown",
      "metadata": {
        "id": "ej7PmveVBZXd"
      },
      "source": [
        "### Linear Plots\n"
      ]
    },
    {
      "cell_type": "code",
      "metadata": {
        "id": "wO7JsSlAywga",
        "outputId": "6fce2d98-5b7b-4f3d-9f17-2593bf27bf2a",
        "colab": {
          "base_uri": "https://localhost:8080/",
          "height": 644
        }
      },
      "source": [
        "# Update Params\n",
        "channels = ['TV', 'Radio','Newspaper']\n",
        "y_target_field = 'Sales'\n",
        "df = advertising\n",
        "\n",
        "# Params update complete\n",
        "fig, axs = plt.subplots(1,len(channels))\n",
        "fig.set_size_inches(18.5, 10.5)\n",
        "plt.figure(1)\n",
        "i = 0\n",
        "m = [0]*len(channels)\n",
        "b = [0]*len(channels)\n",
        "\n",
        "for channel in channels:\n",
        "    #axs[i] = sns.scatterplot(data=advertising, x=channel, y=\"Sales\")\n",
        "    sns.scatterplot(data=df, x=channel, y=y_target_field,ax=axs[i]).set_title(channel)\n",
        "    m[i], b[i] = np.polyfit(df[channel], df[y_target_field], 1)\n",
        "    axs[i].plot(df[channel], m[i]*df[channel] + b[i],color='r')\n",
        "    i = i +1"
      ],
      "execution_count": 18,
      "outputs": [
        {
          "output_type": "display_data",
          "data": {
            "image/png": "[encoded data removed]",
            "text/plain": [
              "<Figure size 1332x756 with 3 Axes>"
            ]
          },
          "metadata": {
            "tags": [],
            "needs_background": "light"
          }
        }
      ]
    },
    {
      "cell_type": "code",
      "metadata": {
        "id": "ZEQ3OuLldVQY"
      },
      "source": [
        ""
      ],
      "execution_count": 18,
      "outputs": []
    },
    {
      "cell_type": "markdown",
      "metadata": {
        "id": "43wv4VMoQQAT"
      },
      "source": [
        "### Contour Plots"
      ]
    },
    {
      "cell_type": "code",
      "metadata": {
        "id": "kEwxELDd-kAs",
        "outputId": "a84ed7ce-6fc8-4756-c5dc-cbc636e7ca94",
        "colab": {
          "base_uri": "https://localhost:8080/",
          "height": 51
        }
      },
      "source": [
        "b0 = b[0]\n",
        "m0 = m[0]\n",
        "print(b0)\n",
        "print(m0)\n"
      ],
      "execution_count": 19,
      "outputs": [
        {
          "output_type": "stream",
          "text": [
            "7.0325935491276965\n",
            "0.04753664043301974\n"
          ],
          "name": "stdout"
        }
      ]
    },
    {
      "cell_type": "code",
      "metadata": {
        "id": "UjC49LMPDc9g",
        "outputId": "82f0893b-0317-4c00-f931-f634a9352281",
        "colab": {
          "base_uri": "https://localhost:8080/",
          "height": 294
        }
      },
      "source": [
        "#Adjust the range\n",
        "\n",
        "b0_contour = np.arange(-2,14,0.1)\n",
        "m0_contour = np.arange(0.01,0.11,0.01)\n",
        "levels_vals =  [20,30,40,50,60]\n",
        "# Params end, Confirm that length is same\n",
        "\n",
        "y = advertising['Sales']\n",
        "x = advertising['TV']\n",
        "rss= np.empty([len(m0_contour), len(b0_contour)])\n",
        "\n",
        "for column in range(len(b0_contour)):\n",
        "  for row in range(len(m0_contour)):\n",
        "    y_pred =b0_contour[column] + m0_contour[row]*x\n",
        "    rss[row][column] = (((y_pred - y)**2).sum())/float(len(y))\n",
        "\n",
        "CS = plt.contour(b0_contour, m0_contour, rss, cmap= 'plasma', levels = levels_vals)\n",
        "plt.clabel(CS, inline=True, fontsize=10)\n",
        "plt.title('Contour Plot')"
      ],
      "execution_count": 20,
      "outputs": [
        {
          "output_type": "execute_result",
          "data": {
            "text/plain": [
              "Text(0.5, 1.0, 'Contour Plot')"
            ]
          },
          "metadata": {
            "tags": []
          },
          "execution_count": 20
        },
        {
          "output_type": "display_data",
          "data": {
            "image/png": "[encoded data removed]",
            "text/plain": [
              "<Figure size 432x288 with 1 Axes>"
            ]
          },
          "metadata": {
            "tags": [],
            "needs_background": "light"
          }
        }
      ]
    },
    {
      "cell_type": "markdown",
      "metadata": {
        "id": "bDt2jhwNqwPz"
      },
      "source": [
        "## 3.2 Multiple Linear Regression\n",
        "\n",
        "Used so we can capture synergy between variables"
      ]
    },
    {
      "cell_type": "code",
      "metadata": {
        "id": "cBtffXMxqzdx"
      },
      "source": [
        "from sklearn.linear_model import LinearRegression\n",
        "predictors = ['Radio','TV','Newspaper']\n",
        "X= advertising[predictors]\n",
        "y = advertising['Sales']\n",
        "reg = LinearRegression(fit_intercept=True).fit(X, y)"
      ],
      "execution_count": 21,
      "outputs": []
    },
    {
      "cell_type": "code",
      "metadata": {
        "id": "9Im1IEaEslbP",
        "outputId": "8e410037-83a2-4667-e582-f7b5feac17ac",
        "colab": {
          "base_uri": "https://localhost:8080/",
          "height": 85
        }
      },
      "source": [
        "print('Coefficient for intercept  = ' + str(reg.intercept_))\n",
        "for i in range(len(predictors)):\n",
        "  print('Coefficient for '+ predictors[i] + ' = '+str(reg.coef_[i]))\n"
      ],
      "execution_count": 22,
      "outputs": [
        {
          "output_type": "stream",
          "text": [
            "Coefficient for intercept  = 2.9388893694594067\n",
            "Coefficient for Radio = 0.18853001691820434\n",
            "Coefficient for TV = 0.04576464545539764\n",
            "Coefficient for Newspaper = -0.0010374930424763007\n"
          ],
          "name": "stdout"
        }
      ]
    },
    {
      "cell_type": "code",
      "metadata": {
        "id": "9LIQ-j3Vs0m_",
        "outputId": "924088a8-68d1-4b5f-edce-a9f7ecfd1192",
        "colab": {
          "base_uri": "https://localhost:8080/",
          "height": 34
        }
      },
      "source": [
        "y_pred = reg.predict(X)\n",
        "rss = ((y_pred - y)**2).sum()\n",
        "sigma_2 = rss/(len(y_pred)-2)\n",
        "rse = math.sqrt(sigma_2)\n",
        "n = len(y_pred)\n",
        "SE = []\n",
        "t = []\n",
        "p = []\n",
        "for i in range(len(predictors)):\n",
        "  x_avg = X[predictors[i]].sum()/(n)\n",
        "  x_val = ((X[predictors[i]]- x_avg)**2).sum()\n",
        "  SE_B = math.sqrt(sigma_2/x_val)\n",
        "  SE.append(SE_B)\n",
        "  t_val = reg.coef_[i]/SE_B\n",
        "  t.append(t_val)\n",
        "  pval = scipy.stats.t.sf(np.abs(t_val), n-2)*2  # two-sided pvalue = Prob(abs(t)>tt)\n",
        "  p.append(pval)\n",
        "SE"
      ],
      "execution_count": 23,
      "outputs": [
        {
          "output_type": "execute_result",
          "data": {
            "text/plain": [
              "[0.008006951638700984, 0.0013846455127335701, 0.005458457812550267]"
            ]
          },
          "metadata": {
            "tags": []
          },
          "execution_count": 23
        }
      ]
    },
    {
      "cell_type": "code",
      "metadata": {
        "id": "agNFzbZ0tTB3"
      },
      "source": [
        "table = pd.DataFrame(data={'predictors': predictors\n",
        "                           ,'Co-eff': reg.coef_\n",
        "                          ,'SE': SE\n",
        "                          ,'t': t\n",
        "                          ,'p': p})"
      ],
      "execution_count": 24,
      "outputs": []
    },
    {
      "cell_type": "code",
      "metadata": {
        "id": "eENi58S2wmCG",
        "outputId": "e1a9b639-1ef9-4d7b-f00e-0aac5e4654d5",
        "colab": {
          "base_uri": "https://localhost:8080/",
          "height": 142
        }
      },
      "source": [
        "table"
      ],
      "execution_count": 25,
      "outputs": [
        {
          "output_type": "execute_result",
          "data": {
            "text/html": [
              "<div>\n",
              "<style scoped>\n",
              "    .dataframe tbody tr th:only-of-type {\n",
              "        vertical-align: middle;\n",
              "    }\n",
              "\n",
              "    .dataframe tbody tr th {\n",
              "        vertical-align: top;\n",
              "    }\n",
              "\n",
              "    .dataframe thead th {\n",
              "        text-align: right;\n",
              "    }\n",
              "</style>\n",
              "<table border=\"1\" class=\"dataframe\">\n",
              "  <thead>\n",
              "    <tr style=\"text-align: right;\">\n",
              "      <th></th>\n",
              "      <th>predictors</th>\n",
              "      <th>Co-eff</th>\n",
              "      <th>SE</th>\n",
              "      <th>t</th>\n",
              "      <th>p</th>\n",
              "    </tr>\n",
              "  </thead>\n",
              "  <tbody>\n",
              "    <tr>\n",
              "      <th>0</th>\n",
              "      <td>Radio</td>\n",
              "      <td>0.188530</td>\n",
              "      <td>0.008007</td>\n",
              "      <td>23.545792</td>\n",
              "      <td>2.628916e-59</td>\n",
              "    </tr>\n",
              "    <tr>\n",
              "      <th>1</th>\n",
              "      <td>TV</td>\n",
              "      <td>0.045765</td>\n",
              "      <td>0.001385</td>\n",
              "      <td>33.051525</td>\n",
              "      <td>1.573515e-82</td>\n",
              "    </tr>\n",
              "    <tr>\n",
              "      <th>2</th>\n",
              "      <td>Newspaper</td>\n",
              "      <td>-0.001037</td>\n",
              "      <td>0.005458</td>\n",
              "      <td>-0.190071</td>\n",
              "      <td>8.494484e-01</td>\n",
              "    </tr>\n",
              "  </tbody>\n",
              "</table>\n",
              "</div>"
            ],
            "text/plain": [
              "  predictors    Co-eff        SE          t             p\n",
              "0      Radio  0.188530  0.008007  23.545792  2.628916e-59\n",
              "1         TV  0.045765  0.001385  33.051525  1.573515e-82\n",
              "2  Newspaper -0.001037  0.005458  -0.190071  8.494484e-01"
            ]
          },
          "metadata": {
            "tags": []
          },
          "execution_count": 25
        }
      ]
    },
    {
      "cell_type": "markdown",
      "metadata": {
        "id": "5ZyDoPHiyXK3"
      },
      "source": [
        "### F-statistic (Relationship between any X and y)\n",
        "\n",
        "This is useful when predictors is large, if we calculated t=statistic individually and large number of features, then by pure chance one of them could have good t-statistic with low p-value and indicate relationship\n",
        "\n",
        "\n",
        "$F = \\frac{(TSS-RSS)/p}{RSS/(n-p-1)}$\n",
        "\n",
        "when there is no relationship between the response and predictors, one would expect the F-statistic to take on a value close to 1. Else we expect F to be greater than 1.\n",
        "\n",
        " Calculate p-value using F statistic\n",
        "\n",
        "F-statistic does not work when p > n\n"
      ]
    },
    {
      "cell_type": "code",
      "metadata": {
        "id": "7-cykHuRx1zP",
        "outputId": "85ba1032-8978-442a-9471-7e187a40b9c1",
        "colab": {
          "base_uri": "https://localhost:8080/",
          "height": 34
        }
      },
      "source": [
        "y_avg = y.sum()/n\n",
        "tss = ((y_pred - y_avg)**2).sum()\n",
        "p = len(p)\n",
        "f = (tss-rss)*(n-p-1)/(rss*p)\n",
        "print(f)"
      ],
      "execution_count": 26,
      "outputs": [
        {
          "output_type": "stream",
          "text": [
            "504.93737032576166\n"
          ],
          "name": "stdout"
        }
      ]
    },
    {
      "cell_type": "markdown",
      "metadata": {
        "id": "OimB9BTx1bCR"
      },
      "source": [
        "### Variable Selection\n",
        "\n",
        "Forward Selection\n",
        "Backward Selection\n",
        "Mixed\n",
        "\n",
        "adding one predictor at a time that has lowest RSS and need a stopping condition"
      ]
    },
    {
      "cell_type": "markdown",
      "metadata": {
        "id": "vt6C1gnN15RZ"
      },
      "source": [
        "### R2\n",
        "\n",
        "R2 = Corr$(\\hat{y} , y$)\n",
        "\n",
        "R2 will increase with number of variables even if they are not good predictors. This is because this gives linear regression more degress of freedom.\n",
        "\n",
        "If adding a given predictor does not significantly improve the R2 score, the variable is likely a weak predictor"
      ]
    },
    {
      "cell_type": "code",
      "metadata": {
        "id": "hZ68cCUQ0OmP",
        "outputId": "a8ba1e57-ad1c-4482-bcfb-c76f31240b83",
        "colab": {
          "base_uri": "https://localhost:8080/",
          "height": 34
        }
      },
      "source": [
        "corr, _ = scipy.stats.pearsonr(y_pred, y)\n",
        "print(corr)\n"
      ],
      "execution_count": 27,
      "outputs": [
        {
          "output_type": "stream",
          "text": [
            "0.947212034435243\n"
          ],
          "name": "stdout"
        }
      ]
    },
    {
      "cell_type": "markdown",
      "metadata": {
        "id": "1VjmyHwv4y_l"
      },
      "source": [
        "### Synergy Effect\n",
        "\n",
        "When one predictor value influences the effect of another. Adding an $X_{1}*X_{2}$ term will help with modeling\n",
        "\n",
        "\n",
        "**Hierarchical principle**  states that if we include an interaction in a model, we hierarchical\n",
        "should also include the main effects, even if the p-values associated with principle\n",
        "their coefficients are not significant\n",
        "\n",
        "More significant for qualitative terms to add interaction w/o interaction the change in one of numeric/quantitative fields results in same increase irespective of the qualitative. Hence interaction terms are also important here."
      ]
    },
    {
      "cell_type": "code",
      "metadata": {
        "id": "Ai9oYjXu2Nu1"
      },
      "source": [
        ""
      ],
      "execution_count": 27,
      "outputs": []
    },
    {
      "cell_type": "markdown",
      "metadata": {
        "id": "dz-p-x75x-U-"
      },
      "source": [
        "## Regression Considerations"
      ]
    },
    {
      "cell_type": "markdown",
      "metadata": {
        "id": "39o-xjbEyB-S"
      },
      "source": [
        "### One Hot encoding\n",
        "\n",
        "The values themselves don't matter (0 or 1)"
      ]
    },
    {
      "cell_type": "markdown",
      "metadata": {
        "id": "LqdyvPNW09tZ"
      },
      "source": [
        "### Non- Linearity fo Data\n"
      ]
    },
    {
      "cell_type": "markdown",
      "metadata": {
        "id": "aH1sIYIS1CdY"
      },
      "source": [
        "#### Residual Plots\n",
        "\n",
        "Plot of $\\hat{y} - y$ vs x\n",
        "\n",
        "Ideally there should not be a pattern in residuals, if there is data might be non linear"
      ]
    },
    {
      "cell_type": "code",
      "metadata": {
        "id": "g8rhXJB61mIR"
      },
      "source": [
        "from sklearn.linear_model import LinearRegression\n",
        "auto['horsepower_2'] = auto['horsepower']**2\n",
        "y_auto = auto['mpg']\n",
        "reg1 = LinearRegression(fit_intercept=True).fit(auto[['horsepower','horsepower_2']], y_auto)\n",
        "reg2 = LinearRegression(fit_intercept=True).fit(auto[['horsepower']], y_auto)"
      ],
      "execution_count": 35,
      "outputs": []
    },
    {
      "cell_type": "code",
      "metadata": {
        "id": "JyfBdUzl1vEB",
        "outputId": "53880d90-d867-4ffa-8d36-4ea7195197db",
        "colab": {
          "base_uri": "https://localhost:8080/",
          "height": 279
        }
      },
      "source": [
        "Y_axis = reg1.predict(auto[['horsepower','horsepower_2']]) - y_auto\n",
        "X_axis = auto['horsepower']\n",
        "plt.scatter(X_axis,Y_axis)"
      ],
      "execution_count": 36,
      "outputs": [
        {
          "output_type": "execute_result",
          "data": {
            "text/plain": [
              "<matplotlib.collections.PathCollection at 0x7f2ec1301710>"
            ]
          },
          "metadata": {
            "tags": []
          },
          "execution_count": 36
        },
        {
          "output_type": "display_data",
          "data": {
            "image/png": "[encoded data removed]",
            "text/plain": [
              "<Figure size 432x288 with 1 Axes>"
            ]
          },
          "metadata": {
            "tags": [],
            "needs_background": "light"
          }
        }
      ]
    },
    {
      "cell_type": "code",
      "metadata": {
        "id": "Pe3s3PCp2zIz",
        "outputId": "7049b9a9-63e8-450e-bdb9-7818c66bba2f",
        "colab": {
          "base_uri": "https://localhost:8080/",
          "height": 282
        }
      },
      "source": [
        "Y_axis = reg2.predict(auto[['horsepower']]) - y_auto\n",
        "X_axis = auto['horsepower']\n",
        "plt.scatter(X_axis,Y_axis)"
      ],
      "execution_count": 38,
      "outputs": [
        {
          "output_type": "execute_result",
          "data": {
            "text/plain": [
              "<matplotlib.collections.PathCollection at 0x7f2ec1276978>"
            ]
          },
          "metadata": {
            "tags": []
          },
          "execution_count": 38
        },
        {
          "output_type": "display_data",
          "data": {
            "image/png": "[encoded data removed]",
            "text/plain": [
              "<Figure size 432x288 with 1 Axes>"
            ]
          },
          "metadata": {
            "tags": [],
            "needs_background": "light"
          }
        }
      ]
    },
    {
      "cell_type": "markdown",
      "metadata": {
        "id": "wH0TobUD32tq"
      },
      "source": [
        "### Error Corelation\n",
        "\n",
        "Example - if the data is doubled the confidence intervals would be narrower by a factor of √2\n",
        "\n",
        "Time series data could have correlation. If adjusant values have similar residuals"
      ]
    },
    {
      "cell_type": "markdown",
      "metadata": {
        "id": "9UZZJRYj4lPu"
      },
      "source": [
        "### Non-constant Variance of Error Terms\n",
        "\n",
        "Look for **heteroscedasticity** in the residual plots\n",
        "\n",
        "When faced with this problem, one possible solution is to transform the response Y using a concave function such as log Y or √Y\n",
        "\n",
        "**Weighted least squares** - When error variance changes???"
      ]
    },
    {
      "cell_type": "markdown",
      "metadata": {
        "id": "zS4cHTi-6ZDj"
      },
      "source": [
        "### Ourliers and Leverage\n",
        "\n",
        "**Outliers** - when y is way off from regression line. \n",
        "Has minimal impact on line but impacts RSE and R2 values\n",
        "\n",
        "calculate **studendized residuals** to identify outliers. > 3 can be outliers\n",
        "\n",
        "=  dividing each residual $e_{i}$ by its estimated standard error\n",
        "\n",
        "**High Leverage points** - Impacts the regression line significantly\n",
        "\n",
        "Calculate Leverage statistic "
      ]
    },
    {
      "cell_type": "markdown",
      "metadata": {
        "id": "P41Hqpxn9Erf"
      },
      "source": [
        "### Collinearity\n",
        "\n",
        "Perdictors have high co-relation can cause issues. Find corr or pairwise plots to identify\n",
        "Why: Countours are very thin and high chance of errors\n",
        "\n",
        "It also reduces the **power** of t-statistic and p-value. We might accept the null hypothese falsely\n",
        "\n",
        "Collinearity can occue > 2 variables, hence use variance inflation factor \n",
        "\n",
        "$VIF(\\hat{\\beta_{j}})= \\frac{1}{1-R_{X_{j}| X_{-j}}^{2}{}}$\n",
        "\n",
        "if VIF > 5/10 ... investigate\n",
        "\n",
        "Drop collinear variables or combine them to form a new one"
      ]
    },
    {
      "cell_type": "code",
      "metadata": {
        "id": "wnTaumrt3GUl"
      },
      "source": [
        ""
      ],
      "execution_count": null,
      "outputs": []
    }
  ]
}